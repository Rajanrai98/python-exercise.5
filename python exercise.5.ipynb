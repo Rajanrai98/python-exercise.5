{
 "cells": [
  {
   "cell_type": "code",
   "execution_count": null,
   "id": "8f33ccbe",
   "metadata": {},
   "outputs": [],
   "source": []
  },
  {
   "cell_type": "code",
   "execution_count": null,
   "id": "230fa55d",
   "metadata": {},
   "outputs": [],
   "source": [
    "a = int(input(\"enter the number:\"))\n",
    "b = int(input(\"enter the number:\"))\n",
    "if a%b!=0:\n",
    "    rem = a%b\n",
    "    a = b\n",
    "    b = rem\n",
    "print(b)\n",
    "    "
   ]
  },
  {
   "cell_type": "code",
   "execution_count": null,
   "id": "58fa1517",
   "metadata": {},
   "outputs": [],
   "source": [
    "vowel = ['a','i','o','e','u']\n",
    "words = \"programming\"\n",
    "counts = 0\n",
    "for character in words:\n",
    "    if character in vowel:\n",
    "        counts+=1\n",
    "print(counts)"
   ]
  },
  {
   "cell_type": "code",
   "execution_count": null,
   "id": "9807f645",
   "metadata": {},
   "outputs": [],
   "source": [
    "string = \"hello!,world\"\n",
    "rev = string[::-1]\n",
    "print(rev)"
   ]
  },
  {
   "cell_type": "code",
   "execution_count": null,
   "id": "f3678d88",
   "metadata": {},
   "outputs": [],
   "source": [
    "vowel = ['a','i','o','e','u']\n",
    "count = 3\n"
   ]
  },
  {
   "cell_type": "code",
   "execution_count": null,
   "id": "1afc17a2",
   "metadata": {},
   "outputs": [],
   "source": [
    "def average_list(numbers):\n",
    "    average = sum(numbers)/len(numbers)\n",
    "    return average"
   ]
  },
  {
   "cell_type": "code",
   "execution_count": null,
   "id": "94a6fa32",
   "metadata": {},
   "outputs": [],
   "source": [
    "list1 = [2,3,4,5,1,8,4,9,10]\n",
    "average_list(list1)"
   ]
  },
  {
   "cell_type": "code",
   "execution_count": null,
   "id": "720bb52f",
   "metadata": {},
   "outputs": [],
   "source": [
    "numbers = [1,2,3,4,5,6,7,8,9,10]\n",
    "if len(numbers)%2!=0:\n",
    "    print((len(numbers)+1)/2)\n",
    "else:\n",
    "    print(len(numbers)/2)\n",
    "    "
   ]
  },
  {
   "cell_type": "code",
   "execution_count": null,
   "id": "cb4e1454",
   "metadata": {},
   "outputs": [],
   "source": [
    "numbers = [1,2,3,4,5,6,7,8,9,10]\n",
    "len(numbers)//2"
   ]
  },
  {
   "cell_type": "code",
   "execution_count": null,
   "id": "8aa25725",
   "metadata": {},
   "outputs": [],
   "source": [
    "def avg(numbers):\n",
    "    average =  sum(numbers)/len(numbers)\n",
    "    return average"
   ]
  },
  {
   "cell_type": "code",
   "execution_count": null,
   "id": "970225fc",
   "metadata": {},
   "outputs": [],
   "source": [
    "numbers = [1,2,3,4,5,6,7,8,9,10]\n",
    "avg(numbers)"
   ]
  },
  {
   "cell_type": "code",
   "execution_count": null,
   "id": "0989a29a",
   "metadata": {},
   "outputs": [],
   "source": [
    "numbers = [91,92,93,94,95,96,97,98,99,100]\n",
    "avg(numbers)"
   ]
  },
  {
   "cell_type": "code",
   "execution_count": null,
   "id": "fe71a17f",
   "metadata": {},
   "outputs": [],
   "source": [
    "def maximum(numbers):\n",
    "    maxnumbers = max(numbers)\n",
    "    return maxnumbers\n",
    "        "
   ]
  },
  {
   "cell_type": "code",
   "execution_count": null,
   "id": "da5f1c24",
   "metadata": {},
   "outputs": [],
   "source": [
    "numbers = [91,92,93,94,95,96,97,98,99,100]\n",
    "maximum(numbers)"
   ]
  },
  {
   "cell_type": "code",
   "execution_count": null,
   "id": "7419a95a",
   "metadata": {},
   "outputs": [],
   "source": [
    "def minimum(list1):\n",
    "    minimum = min(list1)\n",
    "    return minimum"
   ]
  },
  {
   "cell_type": "code",
   "execution_count": null,
   "id": "14cc14c3",
   "metadata": {},
   "outputs": [],
   "source": [
    "numbers = [91,92,93,94,95,96,97,98,99,100]\n",
    "minimum(numbers)"
   ]
  },
  {
   "cell_type": "code",
   "execution_count": null,
   "id": "8fec5717",
   "metadata": {},
   "outputs": [],
   "source": [
    "elements = ['a','b','c','d','a','c','g','d','t']\n",
    "element = ['a']\n",
    "counts = 0\n",
    "for element in elements:\n",
    "    if element in elements :\n",
    "        counts+=1\n",
    "print(counts)"
   ]
  },
  {
   "cell_type": "code",
   "execution_count": null,
   "id": "4d43f706",
   "metadata": {},
   "outputs": [],
   "source": [
    "def count_frequency(elements):\n",
    "    frequency = {}\n",
    "    for element in elements:\n",
    "        if element in frequency:\n",
    "            frequency[element]+=1\n",
    "        else:\n",
    "            frequency[element] = 1\n",
    "    return frequency"
   ]
  },
  {
   "cell_type": "code",
   "execution_count": null,
   "id": "a2c7782f",
   "metadata": {},
   "outputs": [],
   "source": [
    "elements = [1,3,2,3,4,5,5,6,74,32,3,45,5]\n",
    "count_frequency(elements)"
   ]
  },
  {
   "cell_type": "code",
   "execution_count": null,
   "id": "71865c54",
   "metadata": {},
   "outputs": [],
   "source": [
    "words = \"python world\"\n",
    "character = \"p\"\n",
    "count = 0\n",
    "for letter in words:\n",
    "    if character==letter:\n",
    "        count+=1\n",
    "print(count)"
   ]
  },
  {
   "cell_type": "code",
   "execution_count": null,
   "id": "ab790a05",
   "metadata": {},
   "outputs": [],
   "source": [
    "list1 = ['a','b','c','d','g','d','t','s','w','f','t']\n",
    "character = 't'\n",
    "count = 0\n",
    "for letter in list1:\n",
    "    if character==letter:\n",
    "        count+=1\n",
    "print(count)"
   ]
  },
  {
   "cell_type": "code",
   "execution_count": null,
   "id": "e2227899",
   "metadata": {},
   "outputs": [],
   "source": [
    "def remove_duplicates(lst):\n",
    "    return list(dict.fromkeys(lst))"
   ]
  },
  {
   "cell_type": "code",
   "execution_count": null,
   "id": "2d9dd741",
   "metadata": {},
   "outputs": [],
   "source": [
    "numbers = [91,92,93,94,95,96,97,98,99,100,100,91,92,93,94]\n",
    "remove_duplicates(numbers)"
   ]
  },
  {
   "cell_type": "code",
   "execution_count": null,
   "id": "d6e60dd6",
   "metadata": {},
   "outputs": [],
   "source": [
    "def factorial(a):\n",
    "    if a==0:\n",
    "        return 1\n",
    "    else:\n",
    "        return (a*factorial(a-1))"
   ]
  },
  {
   "cell_type": "code",
   "execution_count": null,
   "id": "3e69beab",
   "metadata": {},
   "outputs": [],
   "source": [
    "factorial(3)"
   ]
  },
  {
   "cell_type": "code",
   "execution_count": null,
   "id": "2637d113",
   "metadata": {},
   "outputs": [],
   "source": [
    "## python code to remove duplicates values\n",
    "def remove_duplicates(lst):\n",
    "    return list(dict.fromkeys(lst))"
   ]
  },
  {
   "cell_type": "code",
   "execution_count": null,
   "id": "2eb75ce8",
   "metadata": {},
   "outputs": [],
   "source": [
    "numbers = [91,92,93,94,95,96,97,98,99,100,93,92,94,95,96,93]\n",
    "remove_duplicates(numbers)"
   ]
  },
  {
   "cell_type": "code",
   "execution_count": null,
   "id": "5b4f8518",
   "metadata": {},
   "outputs": [],
   "source": [
    "elements = [1,3,2,3,4,5,5,6,74,32,3,45,5]\n",
    "element = 3\n",
    "count = 0\n",
    "for value in elements:\n",
    "    if element==value:\n",
    "        count+=1\n",
    "print(count)"
   ]
  },
  {
   "cell_type": "code",
   "execution_count": null,
   "id": "144d1731",
   "metadata": {},
   "outputs": [],
   "source": [
    "def median(numbers):\n",
    "    avg = sum(numbers)/len(numbers)\n",
    "    return avg"
   ]
  },
  {
   "cell_type": "code",
   "execution_count": null,
   "id": "50207efc",
   "metadata": {},
   "outputs": [],
   "source": [
    "elements = [1,3,2,3,4,5,5,6,74,32,3,45,5]\n",
    "median(elements)"
   ]
  },
  {
   "cell_type": "code",
   "execution_count": null,
   "id": "70bb0748",
   "metadata": {},
   "outputs": [],
   "source": [
    "##adding elements of two list"
   ]
  },
  {
   "cell_type": "code",
   "execution_count": null,
   "id": "8e2b8c83",
   "metadata": {},
   "outputs": [],
   "source": [
    "lst1 = [4,5,6,7]\n",
    "lst2 = [4,3,2,8]\n",
    "res_lst = [0]\n",
    "for i in range(0,lst1[0]):\n",
    "    res_lst.append(lst1[i]+lst2[i])\n",
    "print(res_lst)"
   ]
  },
  {
   "cell_type": "code",
   "execution_count": null,
   "id": "2660a628",
   "metadata": {},
   "outputs": [],
   "source": [
    "rows = 5\n",
    "for i in range(0,rows):\n",
    "    for j in range(0,rows-i-1):\n",
    "        print(end = \" \")\n",
    "    for k in range(0,i+1):\n",
    "        print(\"*\",end = \" \")\n",
    "    print()"
   ]
  },
  {
   "cell_type": "code",
   "execution_count": null,
   "id": "e34e30eb",
   "metadata": {},
   "outputs": [],
   "source": [
    "num = 1234\n",
    "rev = int(str(num)[::-1])\n",
    "if num==rev:\n",
    "    print(\"palindrom number\")\n",
    "else:\n",
    "    print(\"not palindrom number\")"
   ]
  },
  {
   "cell_type": "code",
   "execution_count": null,
   "id": "4b060bad",
   "metadata": {},
   "outputs": [],
   "source": [
    "def merge(dict1,dict2):\n",
    "    return (dict2.update(dict1))\n"
   ]
  },
  {
   "cell_type": "code",
   "execution_count": null,
   "id": "d5897e70",
   "metadata": {},
   "outputs": [],
   "source": [
    "dict1 = {'a':1,'b':2,'c':3,'d':4}\n",
    "dict2 = {\"e\":3,\"f\":4,\"g\":6,\"a\":2}\n",
    "print(merge(dict1,dict2))\n",
    "print(dict2)"
   ]
  },
  {
   "cell_type": "code",
   "execution_count": null,
   "id": "faeb4cab",
   "metadata": {},
   "outputs": [],
   "source": [
    "rows = 5\n",
    "for i in range(rows):\n",
    "    for j in range(0,i+1):\n",
    "        print(\"*\",end = \" \")\n",
    "    print(\" \")"
   ]
  },
  {
   "cell_type": "code",
   "execution_count": null,
   "id": "55603419",
   "metadata": {},
   "outputs": [],
   "source": [
    "rows = 3\n",
    "for i in range(1,rows+1):\n",
    "    for j in range(0,i):\n",
    "        print('*',end = ' ')\n",
    "    print('')\n",
    "    for k in range(rows,0,-1):\n",
    "        for l in range(0,k-1):\n",
    "            print('*',end = ' ')\n",
    "        print('')\n",
    "    "
   ]
  },
  {
   "cell_type": "code",
   "execution_count": null,
   "id": "eb53f87d",
   "metadata": {},
   "outputs": [],
   "source": [
    "rows = 5\n",
    "for i in range(rows):\n",
    "    for j in range(rows-i-1):\n",
    "        print(end = \" \")\n",
    "    for k in range(0,i+1):\n",
    "        print(\"*\",end = \" \")\n",
    "    print(\" \")\n",
    "    "
   ]
  },
  {
   "cell_type": "code",
   "execution_count": null,
   "id": "7c09587a",
   "metadata": {},
   "outputs": [],
   "source": [
    "age1 = int(input(\"enter the age1:\"))\n",
    "age2 = int(input(\"enter the age2:\"))\n",
    "age3 = int(input(\"enter the age3:\"))\n",
    "if age1>age2 and age1>age3:\n",
    "    print(\"age1 is older:\")\n",
    "elif age2>age1 and age2>age3:\n",
    "    print(\"age2 is older:\")\n",
    "else:\n",
    "    print(\"age3 is older rest of two age values\")"
   ]
  },
  {
   "cell_type": "code",
   "execution_count": null,
   "id": "870ebb1d",
   "metadata": {},
   "outputs": [],
   "source": [
    "def cel_to_fah(cel):\n",
    "    fah = (cel*1.8)+32\n",
    "    return fah"
   ]
  },
  {
   "cell_type": "code",
   "execution_count": null,
   "id": "3f2bb13c",
   "metadata": {},
   "outputs": [],
   "source": [
    "cel_to_fah(37)"
   ]
  },
  {
   "cell_type": "code",
   "execution_count": null,
   "id": "905c189d",
   "metadata": {},
   "outputs": [],
   "source": [
    "a = 90\n",
    "b = 30\n",
    "a,b = b,a\n",
    "print(\"a:\",a,\"b:\",b)"
   ]
  },
  {
   "cell_type": "code",
   "execution_count": null,
   "id": "51b4ce20",
   "metadata": {},
   "outputs": [],
   "source": [
    "def add(x,y,z):\n",
    "    addition = x+y+z\n",
    "    return addition"
   ]
  },
  {
   "cell_type": "code",
   "execution_count": null,
   "id": "b3850902",
   "metadata": {},
   "outputs": [],
   "source": [
    "add(2,3,4)"
   ]
  },
  {
   "cell_type": "code",
   "execution_count": null,
   "id": "8a7fb378",
   "metadata": {},
   "outputs": [],
   "source": [
    "num = int(input(\"enter the numbers:\"))\n",
    "a = num%10\n",
    "num = num//10\n",
    "b = num%10\n",
    "num = num//10\n",
    "c = num%10\n",
    "d = num//10\n",
    "rev = a*1000+b*100+c*10+d\n",
    "print(\"rev:\",rev)\n",
    "print(\"original:\",num)\n",
    "if num==rev:\n",
    "    print(\"True\")\n",
    "else:\n",
    "    print(\"False\")"
   ]
  },
  {
   "cell_type": "code",
   "execution_count": null,
   "id": "66aa0c52",
   "metadata": {},
   "outputs": [],
   "source": [
    "year = int(input(\"enter the year:\"))\n",
    "if year%4==0 and year%100!=0:\n",
    "    print(\"year is leap year:\")\n",
    "elif year%100==0 and year%400==0:\n",
    "    print(\"year is not a leap year:\")\n",
    "else:\n",
    "    print(\"year is not a leap year:\")"
   ]
  },
  {
   "cell_type": "code",
   "execution_count": null,
   "id": "bf1b6dbc",
   "metadata": {},
   "outputs": [],
   "source": [
    "num = int(input(\"enter the numbers:\"))\n",
    "for i in range(2,num):\n",
    "    if num%i==0:\n",
    "        print(\"this is not a prime numbers\")\n",
    "        break\n",
    "else:\n",
    "    print(\"this is a prime numbers\")"
   ]
  },
  {
   "cell_type": "code",
   "execution_count": null,
   "id": "111fe048",
   "metadata": {},
   "outputs": [],
   "source": [
    "## print a prime numbers from 1 to "
   ]
  },
  {
   "cell_type": "code",
   "execution_count": null,
   "id": "9b670166",
   "metadata": {},
   "outputs": [],
   "source": [
    "lower = int(input(\"enter the lower number:\"))\n",
    "upper = int(input(\"enter the upper number:\"))\n",
    "for num in range(lower,upper+1):\n",
    "    for i in range(2,num):\n",
    "        if num%i==0:\n",
    "            break\n",
    "    else:\n",
    "        print(num)"
   ]
  },
  {
   "cell_type": "code",
   "execution_count": null,
   "id": "c3b240e1",
   "metadata": {},
   "outputs": [],
   "source": [
    "a = 0\n",
    "b = 1\n",
    "num = int(input(\"enter the  number:\"))\n",
    "if num ==1:\n",
    "    print(a)\n",
    "else:\n",
    "    print(a)\n",
    "    print(b)\n",
    "    for i in range(1,num):\n",
    "        c = a+b\n",
    "        a = b\n",
    "        b = c\n",
    "        print(c)"
   ]
  },
  {
   "cell_type": "code",
   "execution_count": null,
   "id": "4daca62b",
   "metadata": {},
   "outputs": [],
   "source": [
    "def is_palindrome(num):\n",
    "    reverse = int(str(num)[::-1])\n",
    "    return reverse"
   ]
  },
  {
   "cell_type": "code",
   "execution_count": null,
   "id": "12b98b88",
   "metadata": {},
   "outputs": [],
   "source": [
    "num = 1234\n",
    "is_palindrome(num)"
   ]
  },
  {
   "cell_type": "code",
   "execution_count": null,
   "id": "15cf35d1",
   "metadata": {},
   "outputs": [],
   "source": [
    "def merge(dict1,dict2):\n",
    "    merge = dict2.update(dict1)\n",
    "    return merge"
   ]
  },
  {
   "cell_type": "code",
   "execution_count": null,
   "id": "f09428a0",
   "metadata": {},
   "outputs": [],
   "source": [
    "dict1 = {\"a\":1,\"b\":2,\"c\":3,\"d\":4,\"e\":5,\"f\":6}\n",
    "dict2 = {\"f\":2,\"a\":1,\"d\":4,\"v\":5}\n",
    "merge(dict1,dict2)\n",
    "print(dict2)"
   ]
  },
  {
   "cell_type": "code",
   "execution_count": null,
   "id": "2463db41",
   "metadata": {},
   "outputs": [],
   "source": [
    "vowels = [\"a\",\"i\",\"o\",\"e\",\"u\"]\n",
    "words = \"pythonprogramming\"\n",
    "count = 0\n",
    "for character in words:\n",
    "    if character  not in vowels:\n",
    "        count+=1\n",
    "print(count)"
   ]
  },
  {
   "cell_type": "code",
   "execution_count": null,
   "id": "78149aec",
   "metadata": {},
   "outputs": [],
   "source": [
    "words = \"python programming\"\n",
    "character = \"p\"\n",
    "count = 0\n",
    "for letter in words:\n",
    "    if character==letter:\n",
    "        count+=1\n",
    "print(count)"
   ]
  },
  {
   "cell_type": "code",
   "execution_count": null,
   "id": "d6338a96",
   "metadata": {},
   "outputs": [],
   "source": [
    "a = 20\n",
    "b = 25\n",
    "while a%b!=0:\n",
    "    rem = a%b\n",
    "    a = b\n",
    "    b = rem\n",
    "print(\"hcf:\",b)"
   ]
  },
  {
   "cell_type": "code",
   "execution_count": null,
   "id": "c34651b6",
   "metadata": {},
   "outputs": [],
   "source": [
    "a = 40\n",
    "b = 45\n",
    "while a%b!=0:\n",
    "    rem = a%b\n",
    "    a = b\n",
    "    b = rem\n",
    "print(\"hcf:\",b)\n",
    "\n",
    "    "
   ]
  },
  {
   "cell_type": "code",
   "execution_count": null,
   "id": "2428f31c",
   "metadata": {},
   "outputs": [],
   "source": [
    "num = 7\n",
    "i = 1\n",
    "while i<=10:\n",
    "    print(num,\"*\",i,\"=\",num*i)\n",
    "    i= i+1"
   ]
  },
  {
   "cell_type": "code",
   "execution_count": 4,
   "id": "f9ba6844",
   "metadata": {},
   "outputs": [
    {
     "name": "stdout",
     "output_type": "stream",
     "text": [
      "1\n",
      "3\n",
      "5\n",
      "7\n",
      "9\n",
      "11\n",
      "13\n",
      "15\n",
      "17\n",
      "19\n",
      "21\n",
      "23\n",
      "25\n",
      "27\n",
      "29\n",
      "31\n",
      "33\n",
      "35\n",
      "37\n",
      "39\n",
      "41\n",
      "43\n",
      "45\n",
      "47\n",
      "49\n",
      "51\n"
     ]
    }
   ],
   "source": [
    "count = 0\n",
    "numbers = 1\n",
    "while count<=25:\n",
    "    if numbers%2!=0:\n",
    "        print(numbers)\n",
    "        count+=1\n",
    "    numbers+=1\n",
    "\n"
   ]
  },
  {
   "cell_type": "code",
   "execution_count": null,
   "id": "fececead",
   "metadata": {},
   "outputs": [],
   "source": []
  }
 ],
 "metadata": {
  "kernelspec": {
   "display_name": "Python 3 (ipykernel)",
   "language": "python",
   "name": "python3"
  },
  "language_info": {
   "codemirror_mode": {
    "name": "ipython",
    "version": 3
   },
   "file_extension": ".py",
   "mimetype": "text/x-python",
   "name": "python",
   "nbconvert_exporter": "python",
   "pygments_lexer": "ipython3",
   "version": "3.10.9"
  }
 },
 "nbformat": 4,
 "nbformat_minor": 5
}
